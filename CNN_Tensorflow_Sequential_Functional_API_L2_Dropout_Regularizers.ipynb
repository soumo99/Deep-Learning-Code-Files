{
  "nbformat": 4,
  "nbformat_minor": 0,
  "metadata": {
    "colab": {
      "provenance": [],
      "authorship_tag": "ABX9TyM4mYZWuQUr5P6dOEjLvRuI",
      "include_colab_link": true
    },
    "kernelspec": {
      "name": "python3",
      "display_name": "Python 3"
    },
    "language_info": {
      "name": "python"
    }
  },
  "cells": [
    {
      "cell_type": "markdown",
      "metadata": {
        "id": "view-in-github",
        "colab_type": "text"
      },
      "source": [
        "<a href=\"https://colab.research.google.com/github/soumo99/Deep-Learning-Code-Files/blob/main/CNN_Tensorflow_Sequential_Functional_API_L2_Dropout_Regularizers.ipynb\" target=\"_parent\"><img src=\"https://colab.research.google.com/assets/colab-badge.svg\" alt=\"Open In Colab\"/></a>"
      ]
    },
    {
      "cell_type": "code",
      "execution_count": 1,
      "metadata": {
        "id": "x9DHpOr9gHWW"
      },
      "outputs": [],
      "source": [
        "import os\n",
        "\n",
        "os.environ['TFF_CPP_MIN_LOG_LEVEL'] = '2' #for ignoring the  messages from tensorflow\n",
        "\n",
        "import tensorflow as tf\n",
        "from tensorflow import keras\n",
        "from tensorflow.keras import layers,regularizers\n",
        "from tensorflow.keras.datasets import cifar10"
      ]
    },
    {
      "cell_type": "markdown",
      "source": [
        "Defining the dataset"
      ],
      "metadata": {
        "id": "K0lZC6yZi8Dp"
      }
    },
    {
      "cell_type": "code",
      "source": [
        "(x_train,y_train), (x_test,y_test) = cifar10.load_data()\n",
        "\n",
        "x_train = x_train.astype(\"float32\") / 255.0\n",
        "x_test = x_test.astype(\"float32\") / 255.0\n"
      ],
      "metadata": {
        "id": "4whkvueukcmH"
      },
      "execution_count": 2,
      "outputs": []
    },
    {
      "cell_type": "markdown",
      "source": [
        "# Model Building - Sequential"
      ],
      "metadata": {
        "id": "8u5su3aPjcd_"
      }
    },
    {
      "cell_type": "code",
      "source": [
        "model = keras.Sequential(\n",
        "\n",
        "    [\n",
        "        #32 pixels height and 32 pixels width and 3for RGB # Input shape of each image\n",
        "        keras.Input(shape = (32,32,3)),\n",
        "        #32 channels, kernel size 3 # Valid is the default padding means it will change depending on the kernel size and same means it will remain as same size as mentioned\n",
        "        layers.Conv2D(32, 3, padding='valid',activation = 'relu'),\n",
        "        layers.MaxPooling2D(pool_size = (2,2)),\n",
        "        layers.Conv2D(64, 3, padding='valid',activation = 'relu'),\n",
        "        layers.MaxPooling2D(pool_size = (2,2)),\n",
        "        layers.Conv2D(128, 3, padding='valid',activation = 'relu'),\n",
        "        layers.Flatten(),\n",
        "        layers.Dense(64,activation='relu'),\n",
        "        layers.Dense(10),\n",
        "\n",
        "    ]\n",
        ")\n",
        "\n",
        "\n",
        "print(model.summary())\n",
        "\n",
        "\n",
        "#Compiling the model\n",
        "model.compile(\n",
        "  loss = keras.losses.SparseCategoricalCrossentropy(from_logits=True),\n",
        "  optimizer = keras.optimizers.Adam(learning_rate=3e-4),\n",
        "  metrics = [\"accuracy\"],\n",
        ")\n",
        "\n",
        "model.fit(x_train,y_train,batch_size=64, epochs=10, verbose=2)\n",
        "model.evaluate(x_test,y_test,batch_size=64,verbose=2)"
      ],
      "metadata": {
        "colab": {
          "base_uri": "https://localhost:8080/"
        },
        "id": "481vDIHvjbti",
        "outputId": "e3fc8c45-9fbf-4334-f640-0995dbee8796"
      },
      "execution_count": 3,
      "outputs": [
        {
          "output_type": "stream",
          "name": "stdout",
          "text": [
            "Model: \"sequential\"\n",
            "_________________________________________________________________\n",
            " Layer (type)                Output Shape              Param #   \n",
            "=================================================================\n",
            " conv2d (Conv2D)             (None, 30, 30, 32)        896       \n",
            "                                                                 \n",
            " max_pooling2d (MaxPooling2  (None, 15, 15, 32)        0         \n",
            " D)                                                              \n",
            "                                                                 \n",
            " conv2d_1 (Conv2D)           (None, 13, 13, 64)        18496     \n",
            "                                                                 \n",
            " max_pooling2d_1 (MaxPoolin  (None, 6, 6, 64)          0         \n",
            " g2D)                                                            \n",
            "                                                                 \n",
            " conv2d_2 (Conv2D)           (None, 4, 4, 128)         73856     \n",
            "                                                                 \n",
            " flatten (Flatten)           (None, 2048)              0         \n",
            "                                                                 \n",
            " dense (Dense)               (None, 64)                131136    \n",
            "                                                                 \n",
            " dense_1 (Dense)             (None, 10)                650       \n",
            "                                                                 \n",
            "=================================================================\n",
            "Total params: 225034 (879.04 KB)\n",
            "Trainable params: 225034 (879.04 KB)\n",
            "Non-trainable params: 0 (0.00 Byte)\n",
            "_________________________________________________________________\n",
            "None\n",
            "Epoch 1/10\n",
            "782/782 - 67s - loss: 1.6815 - accuracy: 0.3837 - 67s/epoch - 86ms/step\n",
            "Epoch 2/10\n",
            "782/782 - 62s - loss: 1.3461 - accuracy: 0.5158 - 62s/epoch - 79ms/step\n",
            "Epoch 3/10\n",
            "782/782 - 61s - loss: 1.2076 - accuracy: 0.5730 - 61s/epoch - 78ms/step\n",
            "Epoch 4/10\n",
            "782/782 - 63s - loss: 1.1065 - accuracy: 0.6132 - 63s/epoch - 80ms/step\n",
            "Epoch 5/10\n",
            "782/782 - 59s - loss: 1.0351 - accuracy: 0.6393 - 59s/epoch - 76ms/step\n",
            "Epoch 6/10\n",
            "782/782 - 61s - loss: 0.9810 - accuracy: 0.6587 - 61s/epoch - 78ms/step\n",
            "Epoch 7/10\n",
            "782/782 - 61s - loss: 0.9322 - accuracy: 0.6776 - 61s/epoch - 78ms/step\n",
            "Epoch 8/10\n",
            "782/782 - 65s - loss: 0.8877 - accuracy: 0.6935 - 65s/epoch - 84ms/step\n",
            "Epoch 9/10\n",
            "782/782 - 60s - loss: 0.8528 - accuracy: 0.7057 - 60s/epoch - 77ms/step\n",
            "Epoch 10/10\n",
            "782/782 - 60s - loss: 0.8173 - accuracy: 0.7160 - 60s/epoch - 77ms/step\n",
            "157/157 - 3s - loss: 0.8910 - accuracy: 0.6904 - 3s/epoch - 21ms/step\n"
          ]
        },
        {
          "output_type": "execute_result",
          "data": {
            "text/plain": [
              "[0.8910274505615234, 0.6904000043869019]"
            ]
          },
          "metadata": {},
          "execution_count": 3
        }
      ]
    },
    {
      "cell_type": "markdown",
      "source": [
        "## Model Building - Functional"
      ],
      "metadata": {
        "id": "ls06U8eBrjcK"
      }
    },
    {
      "cell_type": "code",
      "source": [
        "def my_model():\n",
        "  inputs = keras.Input(shape=(32,32,3))\n",
        "  x = layers.Conv2D(\n",
        "      32,3,padding='same',kernel_regularizer = regularizers.l2(0.01),\n",
        "      )(inputs)\n",
        "  x = layers.BatchNormalization()(x)\n",
        "  x = keras.activations.relu(x)\n",
        "  x = layers.MaxPooling2D()(x)\n",
        "  x = layers.Conv2D(\n",
        "      64,5, padding='same',kernel_regularizer = regularizers.l2(0.01)\n",
        "      )(x)\n",
        "  x = layers.BatchNormalization()(x)\n",
        "  x = keras.activations.relu(x)\n",
        "  x = layers.Conv2D(\n",
        "      128,3, padding='same',kernel_regularizer = regularizers.l2(0.01),\n",
        "      )(x)\n",
        "  x = layers.BatchNormalization()(x)\n",
        "  x = keras.activations.relu(x)\n",
        "  x = layers.Flatten()(x)\n",
        "  x = layers.Dense(\n",
        "      64,activation='relu', kernel_regularizer = regularizers.l2(0.01),\n",
        "      )(x)\n",
        "  x = layers.Dropout(0.5)(x)\n",
        "  outputs = layers.Dense(10)(x)\n",
        "  model = keras.Model(inputs = inputs, outputs = outputs)\n",
        "\n",
        "  return model\n",
        "\n",
        "\n",
        "model = my_model()\n",
        "\n",
        "\n",
        "#Compiling the model\n",
        "model.compile(\n",
        "    loss = keras.losses.SparseCategoricalCrossentropy(from_logits=True),\n",
        "    optimizer = keras.optimizers.Adam(learning_rate=3e-4),\n",
        "    metrics = [\"accuracy\"],\n",
        ")\n",
        "\n",
        "model.fit(x_train,y_train,batch_size=64, epochs=10,verbose=2)\n",
        "model.evaluate(x_test,y_test,batch_size=64, verbose=2)"
      ],
      "metadata": {
        "colab": {
          "base_uri": "https://localhost:8080/"
        },
        "id": "lUP7EkXbjE9R",
        "outputId": "d68cc311-fa4a-430d-8085-cbe1bb9db9e0"
      },
      "execution_count": 4,
      "outputs": [
        {
          "output_type": "stream",
          "name": "stdout",
          "text": [
            "Epoch 1/10\n",
            "782/782 - 315s - loss: 3.1170 - accuracy: 0.1586 - 315s/epoch - 403ms/step\n",
            "Epoch 2/10\n",
            "782/782 - 312s - loss: 2.2355 - accuracy: 0.2037 - 312s/epoch - 399ms/step\n",
            "Epoch 3/10\n",
            "782/782 - 317s - loss: 2.1347 - accuracy: 0.2171 - 317s/epoch - 406ms/step\n",
            "Epoch 4/10\n",
            "782/782 - 314s - loss: 2.0939 - accuracy: 0.2227 - 314s/epoch - 401ms/step\n",
            "Epoch 5/10\n",
            "782/782 - 318s - loss: 2.0427 - accuracy: 0.2447 - 318s/epoch - 406ms/step\n",
            "Epoch 6/10\n",
            "782/782 - 315s - loss: 2.0097 - accuracy: 0.2529 - 315s/epoch - 403ms/step\n",
            "Epoch 7/10\n",
            "782/782 - 312s - loss: 1.9851 - accuracy: 0.2590 - 312s/epoch - 399ms/step\n",
            "Epoch 8/10\n",
            "782/782 - 310s - loss: 1.9639 - accuracy: 0.2616 - 310s/epoch - 396ms/step\n",
            "Epoch 9/10\n",
            "782/782 - 313s - loss: 1.9580 - accuracy: 0.2637 - 313s/epoch - 401ms/step\n",
            "Epoch 10/10\n",
            "782/782 - 313s - loss: 1.9407 - accuracy: 0.2678 - 313s/epoch - 400ms/step\n",
            "157/157 - 16s - loss: 1.8483 - accuracy: 0.3543 - 16s/epoch - 100ms/step\n"
          ]
        },
        {
          "output_type": "execute_result",
          "data": {
            "text/plain": [
              "[1.8483357429504395, 0.35429999232292175]"
            ]
          },
          "metadata": {},
          "execution_count": 4
        }
      ]
    },
    {
      "cell_type": "code",
      "source": [],
      "metadata": {
        "id": "ZkyLvEqOxJo8"
      },
      "execution_count": 4,
      "outputs": []
    }
  ]
}