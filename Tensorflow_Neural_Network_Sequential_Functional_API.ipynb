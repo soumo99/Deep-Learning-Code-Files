{
  "nbformat": 4,
  "nbformat_minor": 0,
  "metadata": {
    "colab": {
      "provenance": [],
      "authorship_tag": "ABX9TyNFJqWhgxYMKJhxNWYD6fQN",
      "include_colab_link": true
    },
    "kernelspec": {
      "name": "python3",
      "display_name": "Python 3"
    },
    "language_info": {
      "name": "python"
    }
  },
  "cells": [
    {
      "cell_type": "markdown",
      "metadata": {
        "id": "view-in-github",
        "colab_type": "text"
      },
      "source": [
        "<a href=\"https://colab.research.google.com/github/soumo99/Deep-Learning-Code-Files/blob/main/Tensorflow_Neural_Network_Sequential_Functional_API.ipynb\" target=\"_parent\"><img src=\"https://colab.research.google.com/assets/colab-badge.svg\" alt=\"Open In Colab\"/></a>"
      ]
    },
    {
      "cell_type": "code",
      "execution_count": 1,
      "metadata": {
        "id": "o7rH1fa0jkup"
      },
      "outputs": [],
      "source": [
        "import os\n",
        "os.environ['TFF_CPP_MIN_LOG_LEVEL'] = '2'\n",
        "\n",
        "import tensorflow as tf\n",
        "from tensorflow import keras\n",
        "from tensorflow.keras import layers\n",
        "from tensorflow.keras.datasets import mnist"
      ]
    },
    {
      "cell_type": "code",
      "source": [
        "(x_train,y_train),(x_test,y_test) = mnist.load_data()"
      ],
      "metadata": {
        "id": "ouIA4OKWqGNC"
      },
      "execution_count": 2,
      "outputs": []
    },
    {
      "cell_type": "code",
      "source": [
        "x_train.shape"
      ],
      "metadata": {
        "colab": {
          "base_uri": "https://localhost:8080/"
        },
        "id": "t4ggiqjuq7_5",
        "outputId": "c2263d5a-b7f3-4397-ac47-cf4a6adbe8cd"
      },
      "execution_count": 3,
      "outputs": [
        {
          "output_type": "execute_result",
          "data": {
            "text/plain": [
              "(60000, 28, 28)"
            ]
          },
          "metadata": {},
          "execution_count": 3
        }
      ]
    },
    {
      "cell_type": "code",
      "source": [
        "y_train.shape"
      ],
      "metadata": {
        "colab": {
          "base_uri": "https://localhost:8080/"
        },
        "id": "qeEDyOYPq-hu",
        "outputId": "14f70d36-9543-4880-a38f-7559794c5c2f"
      },
      "execution_count": 4,
      "outputs": [
        {
          "output_type": "execute_result",
          "data": {
            "text/plain": [
              "(60000,)"
            ]
          },
          "metadata": {},
          "execution_count": 4
        }
      ]
    },
    {
      "cell_type": "markdown",
      "source": [
        "# Defining the dataset"
      ],
      "metadata": {
        "id": "K_jEIIiXzt_K"
      }
    },
    {
      "cell_type": "code",
      "source": [
        "#Flattening the x_train and x_test data and dimensions\n",
        "\n",
        "x_train = x_train.reshape(-1,28*28).astype(\"float32\") / 255.0 #reducing the datatype from float64 to 32 for reducing the complications and dividing by 255.0 to keep data between 0 and 1 for faster training\n",
        "x_test = x_test.reshape(-1,28*28).astype(\"float32\") / 255.0"
      ],
      "metadata": {
        "id": "s_cjHL3BrAZJ"
      },
      "execution_count": 5,
      "outputs": []
    },
    {
      "cell_type": "markdown",
      "source": [
        "# Sequential API - Maps one input with one output"
      ],
      "metadata": {
        "id": "KCFSEeJ4ulj_"
      }
    },
    {
      "cell_type": "code",
      "source": [
        "#Building the model\n",
        "model = keras.Sequential(\n",
        "    [\n",
        "        # keras.Input(shape = (28*28)),\n",
        "        layers.Dense(512,activation='relu'),\n",
        "        layers.Dense(256,activation='relu'),\n",
        "        layers.Dense(10),\n",
        "    ]\n",
        ")\n",
        "\n",
        "model = keras.Sequential()\n",
        "model.add(keras.Input(shape=(784)))\n",
        "model.add(keras.Dense(512,activation='relu'))\n",
        "model.add(keras.Dense(256,activation='relu'))\n",
        "model.add(keras.Dense(10))\n",
        "\n",
        "model = keras.Model(inputs = model.inputs,\n",
        "                    outputs = [model.layers[-1].output])\n",
        "\n",
        "feature = model.predict(x_train)\n",
        "print(feature.shape)\n",
        "\n",
        "# print(model.summary())\n",
        "\n",
        "import sys\n",
        "sys.exit()\n",
        "\n",
        "\n",
        "#Compiling the model\n",
        "model.compile(\n",
        "    loss = keras.losses.SparseCategoricalCrossentropy(from_logits=True),\n",
        "    optimizer = keras.optimizers.Adam(learning_rate=0.001),\n",
        "    metrics = [\"accuracy\"],\n",
        "\n",
        ")\n",
        "\n",
        "#Training the model\n",
        "model.fit(x_train,y_train,batch_size=32,epochs=5,verbose=2)\n",
        "\n",
        "#Evaluating the model\n",
        "model.evaluate(x_test,y_test,batch_size=32,verbose=2)"
      ],
      "metadata": {
        "colab": {
          "base_uri": "https://localhost:8080/"
        },
        "id": "a62NQJXLujMK",
        "outputId": "847ba625-bec5-463c-da8c-723f4196abf7"
      },
      "execution_count": 6,
      "outputs": [
        {
          "output_type": "stream",
          "name": "stdout",
          "text": [
            "Epoch 1/5\n",
            "1875/1875 - 21s - loss: 0.1861 - accuracy: 0.9438 - 21s/epoch - 11ms/step\n",
            "Epoch 2/5\n",
            "1875/1875 - 13s - loss: 0.0782 - accuracy: 0.9757 - 13s/epoch - 7ms/step\n",
            "Epoch 3/5\n",
            "1875/1875 - 13s - loss: 0.0534 - accuracy: 0.9835 - 13s/epoch - 7ms/step\n",
            "Epoch 4/5\n",
            "1875/1875 - 13s - loss: 0.0412 - accuracy: 0.9864 - 13s/epoch - 7ms/step\n",
            "Epoch 5/5\n",
            "1875/1875 - 13s - loss: 0.0317 - accuracy: 0.9895 - 13s/epoch - 7ms/step\n",
            "313/313 - 1s - loss: 0.0753 - accuracy: 0.9804 - 850ms/epoch - 3ms/step\n"
          ]
        },
        {
          "output_type": "execute_result",
          "data": {
            "text/plain": [
              "[0.07531674951314926, 0.980400025844574]"
            ]
          },
          "metadata": {},
          "execution_count": 6
        }
      ]
    },
    {
      "cell_type": "markdown",
      "source": [
        "Obervations - From the above code snippet it is observed that loss is getting reduced and accuracy is getting increased on every epochs"
      ],
      "metadata": {
        "id": "UMdBRZH-y-v7"
      }
    },
    {
      "cell_type": "markdown",
      "source": [
        "# Functional API - Maps multiple inputs with multiple outputs"
      ],
      "metadata": {
        "id": "DQbJphnBViBK"
      }
    },
    {
      "cell_type": "code",
      "source": [
        "#Buildidng the Model\n",
        "inputs = keras.Input(shape=(784))\n",
        "x = layers.Dense(512,activation='relu', name='first_layer')(inputs)\n",
        "x = layers.Dense(256,activation='relu',name='second_layer')(x)\n",
        "outputs = layers.Dense(10,activation='softmax')(x)\n",
        "\n",
        "print(model.summary())\n",
        "\n",
        "#Compiling the Model\n",
        "model.compile(\n",
        "    loss = keras.losses.SparseCategoricalCrossentropy(from_logits=False),\n",
        "    optimizer = keras.optimizers.Adam(learning_rate=0.001),\n",
        "    metrics = ['accuracy'],\n",
        ")\n",
        "\n",
        "#training the model\n",
        "model.fit(x_train,y_train,batch_size = 32,epochs=5,verbose=2)\n",
        "\n",
        "#Evaluating the model\n",
        "model.evaluate(x_test,y_test,batch_size=32,verbose=2)"
      ],
      "metadata": {
        "colab": {
          "base_uri": "https://localhost:8080/"
        },
        "id": "qkAC4Ttyu4Le",
        "outputId": "cb6df65d-ee16-4abd-dee4-58939af8cd6e"
      },
      "execution_count": 8,
      "outputs": [
        {
          "output_type": "stream",
          "name": "stdout",
          "text": [
            "Model: \"sequential\"\n",
            "_________________________________________________________________\n",
            " Layer (type)                Output Shape              Param #   \n",
            "=================================================================\n",
            " dense (Dense)               (None, 512)               401920    \n",
            "                                                                 \n",
            " dense_1 (Dense)             (None, 256)               131328    \n",
            "                                                                 \n",
            " dense_2 (Dense)             (None, 10)                2570      \n",
            "                                                                 \n",
            "=================================================================\n",
            "Total params: 535818 (2.04 MB)\n",
            "Trainable params: 535818 (2.04 MB)\n",
            "Non-trainable params: 0 (0.00 Byte)\n",
            "_________________________________________________________________\n",
            "None\n",
            "Epoch 1/5\n",
            "1875/1875 - 14s - loss: 2.3026 - accuracy: 0.2826 - 14s/epoch - 8ms/step\n",
            "Epoch 2/5\n",
            "1875/1875 - 12s - loss: 2.3026 - accuracy: 0.2826 - 12s/epoch - 7ms/step\n",
            "Epoch 3/5\n",
            "1875/1875 - 13s - loss: 2.3026 - accuracy: 0.2826 - 13s/epoch - 7ms/step\n",
            "Epoch 4/5\n",
            "1875/1875 - 13s - loss: 2.3026 - accuracy: 0.2826 - 13s/epoch - 7ms/step\n",
            "Epoch 5/5\n",
            "1875/1875 - 13s - loss: 2.3026 - accuracy: 0.2826 - 13s/epoch - 7ms/step\n",
            "313/313 - 1s - loss: 2.3026 - accuracy: 0.2744 - 804ms/epoch - 3ms/step\n"
          ]
        },
        {
          "output_type": "execute_result",
          "data": {
            "text/plain": [
              "[2.30259108543396, 0.274399995803833]"
            ]
          },
          "metadata": {},
          "execution_count": 8
        }
      ]
    },
    {
      "cell_type": "code",
      "source": [],
      "metadata": {
        "id": "W8if9gyLclV9"
      },
      "execution_count": null,
      "outputs": []
    }
  ]
}