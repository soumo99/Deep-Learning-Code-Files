{
  "nbformat": 4,
  "nbformat_minor": 0,
  "metadata": {
    "colab": {
      "provenance": [],
      "authorship_tag": "ABX9TyMMUgazfpPN7rPVV9GKICYO",
      "include_colab_link": true
    },
    "kernelspec": {
      "name": "python3",
      "display_name": "Python 3"
    },
    "language_info": {
      "name": "python"
    }
  },
  "cells": [
    {
      "cell_type": "markdown",
      "metadata": {
        "id": "view-in-github",
        "colab_type": "text"
      },
      "source": [
        "<a href=\"https://colab.research.google.com/github/soumo99/Deep-Learning-Code-Files/blob/main/CNN_Tensorflow_Sequential_Functional_API.ipynb\" target=\"_parent\"><img src=\"https://colab.research.google.com/assets/colab-badge.svg\" alt=\"Open In Colab\"/></a>"
      ]
    },
    {
      "cell_type": "code",
      "execution_count": 1,
      "metadata": {
        "id": "x9DHpOr9gHWW"
      },
      "outputs": [],
      "source": [
        "import os\n",
        "\n",
        "os.environ['TFF_CPP_MIN_LOG_LEVEL'] = '2' #for ignoring the  messages from tensorflow\n",
        "\n",
        "import tensorflow as tf\n",
        "from tensorflow import keras\n",
        "from tensorflow.keras import layers\n",
        "from tensorflow.keras.datasets import cifar10"
      ]
    },
    {
      "cell_type": "markdown",
      "source": [
        "Defining the dataset"
      ],
      "metadata": {
        "id": "K0lZC6yZi8Dp"
      }
    },
    {
      "cell_type": "code",
      "source": [
        "(x_train,y_train), (x_test,y_test) = cifar10.load_data()\n",
        "\n",
        "x_train = x_train.astype(\"float32\") / 255.0\n",
        "x_test = x_test.astype(\"float32\") / 255.0\n"
      ],
      "metadata": {
        "id": "4whkvueukcmH"
      },
      "execution_count": 2,
      "outputs": []
    },
    {
      "cell_type": "markdown",
      "source": [
        "# Model Building - Sequential"
      ],
      "metadata": {
        "id": "8u5su3aPjcd_"
      }
    },
    {
      "cell_type": "code",
      "source": [
        "model = keras.Sequential(\n",
        "\n",
        "    [\n",
        "        #32 pixels height and 32 pixels width and 3for RGB # Input shape of each image\n",
        "        keras.Input(shape = (32,32,3)),\n",
        "        #32 channels, kernel size 3 # Valid is the default padding means it will change depending on the kernel size and same means it will remain as same size as mentioned\n",
        "        layers.Conv2D(32, 3, padding='valid',activation = 'relu'),\n",
        "        layers.MaxPooling2D(pool_size = (2,2)),\n",
        "        layers.Conv2D(64, 3, padding='valid',activation = 'relu'),\n",
        "        layers.MaxPooling2D(pool_size = (2,2)),\n",
        "        layers.Conv2D(128, 3, padding='valid',activation = 'relu'),\n",
        "        layers.Flatten(),\n",
        "        layers.Dense(64,activation='relu'),\n",
        "        layers.Dense(10),\n",
        "\n",
        "    ]\n",
        ")\n",
        "\n",
        "\n",
        "print(model.summary())\n",
        "\n",
        "\n",
        "#Compiling the model\n",
        "model.compile(\n",
        "  loss = keras.losses.SparseCategoricalCrossentropy(from_logits=True),\n",
        "  optimizer = keras.optimizers.Adam(learning_rate=3e-4),\n",
        "  metrics = [\"accuracy\"],\n",
        ")\n",
        "\n",
        "model.fit(x_train,y_train,batch_size=64, epochs=10, verbose=2)\n",
        "model.evaluate(x_test,y_test,batch_size=64,verbose=2)"
      ],
      "metadata": {
        "colab": {
          "base_uri": "https://localhost:8080/"
        },
        "id": "481vDIHvjbti",
        "outputId": "f0e98d58-4b48-41bb-b95b-6c73071e9b96"
      },
      "execution_count": 3,
      "outputs": [
        {
          "output_type": "stream",
          "name": "stdout",
          "text": [
            "Model: \"sequential\"\n",
            "_________________________________________________________________\n",
            " Layer (type)                Output Shape              Param #   \n",
            "=================================================================\n",
            " conv2d (Conv2D)             (None, 30, 30, 32)        896       \n",
            "                                                                 \n",
            " max_pooling2d (MaxPooling2  (None, 15, 15, 32)        0         \n",
            " D)                                                              \n",
            "                                                                 \n",
            " conv2d_1 (Conv2D)           (None, 13, 13, 64)        18496     \n",
            "                                                                 \n",
            " max_pooling2d_1 (MaxPoolin  (None, 6, 6, 64)          0         \n",
            " g2D)                                                            \n",
            "                                                                 \n",
            " conv2d_2 (Conv2D)           (None, 4, 4, 128)         73856     \n",
            "                                                                 \n",
            " flatten (Flatten)           (None, 2048)              0         \n",
            "                                                                 \n",
            " dense (Dense)               (None, 64)                131136    \n",
            "                                                                 \n",
            " dense_1 (Dense)             (None, 10)                650       \n",
            "                                                                 \n",
            "=================================================================\n",
            "Total params: 225034 (879.04 KB)\n",
            "Trainable params: 225034 (879.04 KB)\n",
            "Non-trainable params: 0 (0.00 Byte)\n",
            "_________________________________________________________________\n",
            "None\n",
            "Epoch 1/10\n",
            "782/782 - 67s - loss: 1.6737 - accuracy: 0.3880 - 67s/epoch - 86ms/step\n",
            "Epoch 2/10\n",
            "782/782 - 63s - loss: 1.3513 - accuracy: 0.5154 - 63s/epoch - 81ms/step\n",
            "Epoch 3/10\n",
            "782/782 - 61s - loss: 1.2179 - accuracy: 0.5694 - 61s/epoch - 77ms/step\n",
            "Epoch 4/10\n",
            "782/782 - 61s - loss: 1.1215 - accuracy: 0.6051 - 61s/epoch - 78ms/step\n",
            "Epoch 5/10\n",
            "782/782 - 61s - loss: 1.0534 - accuracy: 0.6321 - 61s/epoch - 78ms/step\n",
            "Epoch 6/10\n",
            "782/782 - 63s - loss: 0.9890 - accuracy: 0.6544 - 63s/epoch - 81ms/step\n",
            "Epoch 7/10\n",
            "782/782 - 61s - loss: 0.9363 - accuracy: 0.6761 - 61s/epoch - 77ms/step\n",
            "Epoch 8/10\n",
            "782/782 - 61s - loss: 0.8942 - accuracy: 0.6896 - 61s/epoch - 78ms/step\n",
            "Epoch 9/10\n",
            "782/782 - 60s - loss: 0.8539 - accuracy: 0.7039 - 60s/epoch - 77ms/step\n",
            "Epoch 10/10\n",
            "782/782 - 61s - loss: 0.8172 - accuracy: 0.7195 - 61s/epoch - 78ms/step\n",
            "157/157 - 4s - loss: 0.9283 - accuracy: 0.6779 - 4s/epoch - 24ms/step\n"
          ]
        },
        {
          "output_type": "execute_result",
          "data": {
            "text/plain": [
              "[0.928342878818512, 0.6779000163078308]"
            ]
          },
          "metadata": {},
          "execution_count": 3
        }
      ]
    },
    {
      "cell_type": "markdown",
      "source": [
        "## Model Building - Functional"
      ],
      "metadata": {
        "id": "ls06U8eBrjcK"
      }
    },
    {
      "cell_type": "code",
      "source": [
        "def my_model():\n",
        "  inputs = keras.Input(shape=(32,32,3))\n",
        "  x = layers.Conv2D(32,3)(inputs)\n",
        "  x = layers.BatchNormalization()(x)\n",
        "  x = keras.activations.relu(x)\n",
        "  x = layers.MaxPooling2D()(x)\n",
        "  x = layers.Conv2D(64,5, padding='same')(x)\n",
        "  x = layers.BatchNormalization()(x)\n",
        "  x = keras.activations.relu(x)\n",
        "  x = layers.Conv2D(128,3)(x)\n",
        "  x = layers.BatchNormalization()(x)\n",
        "  x = keras.activations.relu(x)\n",
        "  x = layers.Flatten()(x)\n",
        "  x = layers.Dense(64,activation='relu')(x)\n",
        "  outputs = layers.Dense(10)(x)\n",
        "  model = keras.Model(inputs = inputs, outputs = outputs)\n",
        "\n",
        "  return model\n",
        "\n",
        "\n",
        "model = my_model()\n",
        "\n",
        "\n",
        "#Compiling the model\n",
        "model.compile(\n",
        "    loss = keras.losses.SparseCategoricalCrossentropy(from_logits=True),\n",
        "    optimizer = keras.optimizers.Adam(learning_rate=3e-4),\n",
        "    metrics = [\"accuracy\"],\n",
        ")\n",
        "\n",
        "model.fit(x_train,y_train,batch_size=64, epochs=10,verbose=2)\n",
        "model.evaluate(x_test,y_test,batch_size=64, verbose=2)"
      ],
      "metadata": {
        "colab": {
          "base_uri": "https://localhost:8080/"
        },
        "id": "lUP7EkXbjE9R",
        "outputId": "335a4195-d657-4d35-fbf6-d3c98601b8f6"
      },
      "execution_count": 4,
      "outputs": [
        {
          "output_type": "stream",
          "name": "stdout",
          "text": [
            "Epoch 1/10\n",
            "782/782 - 236s - loss: 1.3262 - accuracy: 0.5262 - 236s/epoch - 302ms/step\n",
            "Epoch 2/10\n",
            "782/782 - 240s - loss: 0.9226 - accuracy: 0.6748 - 240s/epoch - 307ms/step\n",
            "Epoch 3/10\n",
            "782/782 - 236s - loss: 0.7567 - accuracy: 0.7346 - 236s/epoch - 301ms/step\n",
            "Epoch 4/10\n",
            "782/782 - 236s - loss: 0.6378 - accuracy: 0.7746 - 236s/epoch - 302ms/step\n",
            "Epoch 5/10\n",
            "782/782 - 235s - loss: 0.5488 - accuracy: 0.8078 - 235s/epoch - 300ms/step\n",
            "Epoch 6/10\n",
            "782/782 - 237s - loss: 0.4670 - accuracy: 0.8376 - 237s/epoch - 303ms/step\n",
            "Epoch 7/10\n",
            "782/782 - 234s - loss: 0.3940 - accuracy: 0.8616 - 234s/epoch - 300ms/step\n",
            "Epoch 8/10\n",
            "782/782 - 243s - loss: 0.3265 - accuracy: 0.8880 - 243s/epoch - 311ms/step\n",
            "Epoch 9/10\n",
            "782/782 - 236s - loss: 0.2730 - accuracy: 0.9062 - 236s/epoch - 301ms/step\n",
            "Epoch 10/10\n",
            "782/782 - 236s - loss: 0.2223 - accuracy: 0.9260 - 236s/epoch - 302ms/step\n",
            "157/157 - 11s - loss: 1.0029 - accuracy: 0.7139 - 11s/epoch - 72ms/step\n"
          ]
        },
        {
          "output_type": "execute_result",
          "data": {
            "text/plain": [
              "[1.0029066801071167, 0.7139000296592712]"
            ]
          },
          "metadata": {},
          "execution_count": 4
        }
      ]
    },
    {
      "cell_type": "code",
      "source": [],
      "metadata": {
        "id": "ZkyLvEqOxJo8"
      },
      "execution_count": 4,
      "outputs": []
    }
  ]
}