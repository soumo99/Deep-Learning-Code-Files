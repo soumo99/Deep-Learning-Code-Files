{
  "cells": [
    {
      "cell_type": "markdown",
      "metadata": {
        "id": "view-in-github",
        "colab_type": "text"
      },
      "source": [
        "<a href=\"https://colab.research.google.com/github/soumo99/Deep-Learning-Code-Files/blob/main/Tensorflow_Testing.ipynb\" target=\"_parent\"><img src=\"https://colab.research.google.com/assets/colab-badge.svg\" alt=\"Open In Colab\"/></a>"
      ]
    },
    {
      "cell_type": "markdown",
      "source": [
        "# Basic Understanding of Tensorflow Concepts by code implementation"
      ],
      "metadata": {
        "id": "3XP-otp7SWGW"
      }
    },
    {
      "cell_type": "code",
      "source": [
        "import tensorflow as tf\n",
        "\n",
        "x = tf.constant([[1,2,3],[3,4,5]])\n",
        "\n",
        "print(x)"
      ],
      "metadata": {
        "id": "R0CJvw9kfgjD",
        "colab": {
          "base_uri": "https://localhost:8080/"
        },
        "outputId": "a3d2c23c-d849-48b6-f949-1f09068b6486"
      },
      "execution_count": 1,
      "outputs": [
        {
          "output_type": "stream",
          "name": "stdout",
          "text": [
            "tf.Tensor(\n",
            "[[1 2 3]\n",
            " [3 4 5]], shape=(2, 3), dtype=int32)\n"
          ]
        }
      ]
    },
    {
      "cell_type": "code",
      "source": [
        "x = tf.ones((3,3))\n",
        "print(x)"
      ],
      "metadata": {
        "colab": {
          "base_uri": "https://localhost:8080/"
        },
        "id": "fi2dzImhQUUD",
        "outputId": "8fd9e43d-a91e-4ed5-9921-246d1daea641"
      },
      "execution_count": 2,
      "outputs": [
        {
          "output_type": "stream",
          "name": "stdout",
          "text": [
            "tf.Tensor(\n",
            "[[1. 1. 1.]\n",
            " [1. 1. 1.]\n",
            " [1. 1. 1.]], shape=(3, 3), dtype=float32)\n"
          ]
        }
      ]
    },
    {
      "cell_type": "code",
      "source": [
        "x = tf.eye(3)\n",
        "print(x)"
      ],
      "metadata": {
        "colab": {
          "base_uri": "https://localhost:8080/"
        },
        "id": "r3RQ8HU9QfcQ",
        "outputId": "3b89f9ea-f07a-4cd1-ea0b-39e486d44307"
      },
      "execution_count": 3,
      "outputs": [
        {
          "output_type": "stream",
          "name": "stdout",
          "text": [
            "tf.Tensor(\n",
            "[[1. 0. 0.]\n",
            " [0. 1. 0.]\n",
            " [0. 0. 1.]], shape=(3, 3), dtype=float32)\n"
          ]
        }
      ]
    },
    {
      "cell_type": "code",
      "source": [
        "x = tf.random.normal((3,3), mean=0, stddev=1)\n",
        "print(x)"
      ],
      "metadata": {
        "colab": {
          "base_uri": "https://localhost:8080/"
        },
        "id": "vu3JAaHvQm3J",
        "outputId": "852979f8-337e-47db-b3fa-6859d80ada06"
      },
      "execution_count": 4,
      "outputs": [
        {
          "output_type": "stream",
          "name": "stdout",
          "text": [
            "tf.Tensor(\n",
            "[[ 0.02398264 -1.6260436  -2.0670435 ]\n",
            " [-1.5892156  -2.6601038   1.7058688 ]\n",
            " [-1.717576   -1.155117    1.5146042 ]], shape=(3, 3), dtype=float32)\n"
          ]
        }
      ]
    },
    {
      "cell_type": "code",
      "source": [
        "x = tf.random.uniform((3,3), minval=0, maxval=1)\n",
        "print(x)"
      ],
      "metadata": {
        "colab": {
          "base_uri": "https://localhost:8080/"
        },
        "id": "rkT4a3SuQ57o",
        "outputId": "ca21055b-d807-485f-c4c0-8ad35af24cae"
      },
      "execution_count": 5,
      "outputs": [
        {
          "output_type": "stream",
          "name": "stdout",
          "text": [
            "tf.Tensor(\n",
            "[[0.12678325 0.2388643  0.35444713]\n",
            " [0.9030018  0.579406   0.2933643 ]\n",
            " [0.50939095 0.02450025 0.54015887]], shape=(3, 3), dtype=float32)\n"
          ]
        }
      ]
    },
    {
      "cell_type": "code",
      "source": [
        "x = tf.range(9)\n",
        "print(x)"
      ],
      "metadata": {
        "colab": {
          "base_uri": "https://localhost:8080/"
        },
        "id": "yr_K6Ca3RVBW",
        "outputId": "d24c1e49-36c6-4f92-e6a7-fa8824b8a418"
      },
      "execution_count": 6,
      "outputs": [
        {
          "output_type": "stream",
          "name": "stdout",
          "text": [
            "tf.Tensor([0 1 2 3 4 5 6 7 8], shape=(9,), dtype=int32)\n"
          ]
        }
      ]
    },
    {
      "cell_type": "code",
      "source": [
        "x = tf.range(start=1,limit=10)\n",
        "print(x)"
      ],
      "metadata": {
        "colab": {
          "base_uri": "https://localhost:8080/"
        },
        "id": "MF6FfRw6RbEW",
        "outputId": "21ac17c5-46f1-49af-e15c-8107a36a8dd6"
      },
      "execution_count": 7,
      "outputs": [
        {
          "output_type": "stream",
          "name": "stdout",
          "text": [
            "tf.Tensor([1 2 3 4 5 6 7 8 9], shape=(9,), dtype=int32)\n"
          ]
        }
      ]
    },
    {
      "cell_type": "code",
      "source": [
        "x = tf.range(start=1,limit=10,delta=2)\n",
        "print(x)"
      ],
      "metadata": {
        "colab": {
          "base_uri": "https://localhost:8080/"
        },
        "id": "llw-GX8MRkgO",
        "outputId": "2b9a304d-898d-4d09-ccb3-c87b8f50e717"
      },
      "execution_count": 8,
      "outputs": [
        {
          "output_type": "stream",
          "name": "stdout",
          "text": [
            "tf.Tensor([1 3 5 7 9], shape=(5,), dtype=int32)\n"
          ]
        }
      ]
    },
    {
      "cell_type": "markdown",
      "source": [
        "Changing the data type from int ot float"
      ],
      "metadata": {
        "id": "dhwOCl-GSQWl"
      }
    },
    {
      "cell_type": "code",
      "source": [
        "x = tf.cast(x,dtype=tf.float64)\n",
        "print(x)"
      ],
      "metadata": {
        "colab": {
          "base_uri": "https://localhost:8080/"
        },
        "id": "KwhNlxb9Rv4y",
        "outputId": "cdc26c8b-f5db-4d78-c8d4-319da4350b75"
      },
      "execution_count": 9,
      "outputs": [
        {
          "output_type": "stream",
          "name": "stdout",
          "text": [
            "tf.Tensor([1. 3. 5. 7. 9.], shape=(5,), dtype=float64)\n"
          ]
        }
      ]
    },
    {
      "cell_type": "markdown",
      "source": [
        "## Mathematical Operations"
      ],
      "metadata": {
        "id": "-CkRzPgtShum"
      }
    },
    {
      "cell_type": "code",
      "source": [
        "x = tf.constant([1,2,3])\n",
        "y = tf.constant([1,2,3])\n",
        "\n",
        "add = tf.add(x,y)\n",
        "subtract = tf.subtract(x,y)\n",
        "multiply = tf.multiply(x,y)\n",
        "divide = tf.divide(x,y)\n",
        "print(add)\n",
        "print(subtract)\n",
        "print(multiply)\n",
        "print(divide)"
      ],
      "metadata": {
        "colab": {
          "base_uri": "https://localhost:8080/"
        },
        "id": "6-aXXJC7SL_r",
        "outputId": "d0ebc012-08de-4beb-f4d9-ab0ae33d569e"
      },
      "execution_count": 10,
      "outputs": [
        {
          "output_type": "stream",
          "name": "stdout",
          "text": [
            "tf.Tensor([2 4 6], shape=(3,), dtype=int32)\n",
            "tf.Tensor([0 0 0], shape=(3,), dtype=int32)\n",
            "tf.Tensor([1 4 9], shape=(3,), dtype=int32)\n",
            "tf.Tensor([1. 1. 1.], shape=(3,), dtype=float64)\n"
          ]
        }
      ]
    },
    {
      "cell_type": "markdown",
      "source": [
        "Element wise multiplication"
      ],
      "metadata": {
        "id": "bU0UzAMoUKbZ"
      }
    },
    {
      "cell_type": "code",
      "source": [
        "x = tf.constant([1,2,3])\n",
        "y = tf.constant([1,2,3])\n",
        "\n",
        "#tensordot and reduce_sum both are used for element wise multiplication\n",
        "z = tf.tensordot(x,y,axes=1)\n",
        "z = tf.reduce_sum(x*y,axis=0)\n",
        "print(z)"
      ],
      "metadata": {
        "colab": {
          "base_uri": "https://localhost:8080/"
        },
        "id": "Wt94sWapS3gG",
        "outputId": "5e24c263-2c0d-41f6-ac35-6bec4ab449b4"
      },
      "execution_count": 11,
      "outputs": [
        {
          "output_type": "stream",
          "name": "stdout",
          "text": [
            "tf.Tensor(14, shape=(), dtype=int32)\n"
          ]
        }
      ]
    },
    {
      "cell_type": "code",
      "source": [
        "x = tf.constant([1,2,3])\n",
        "y = tf.constant([1,2,3])\n",
        "\n",
        "z = x ** 5\n",
        "\n",
        "print(z)"
      ],
      "metadata": {
        "colab": {
          "base_uri": "https://localhost:8080/"
        },
        "id": "UllIvpv-UJQX",
        "outputId": "3561955f-d8ec-4155-974e-9984044f88a2"
      },
      "execution_count": 12,
      "outputs": [
        {
          "output_type": "stream",
          "name": "stdout",
          "text": [
            "tf.Tensor([  1  32 243], shape=(3,), dtype=int32)\n"
          ]
        }
      ]
    },
    {
      "cell_type": "markdown",
      "source": [
        "Matrix Multiplication\n"
      ],
      "metadata": {
        "id": "wldFC2pvZ_KM"
      }
    },
    {
      "cell_type": "code",
      "source": [
        "x = tf.random.normal((2,3))\n",
        "y = tf.random.normal((3,4))\n",
        "\n",
        "print(x)\n",
        "print(y)\n",
        "\n",
        "z = tf.matmul(x,y)\n",
        "print(z)\n",
        "\n",
        "z = x @ y\n",
        "print(z)"
      ],
      "metadata": {
        "id": "wZQjy8z6U4_8",
        "colab": {
          "base_uri": "https://localhost:8080/"
        },
        "outputId": "a80d4d5a-ecca-4352-a500-fe4d49d92f30"
      },
      "execution_count": 13,
      "outputs": [
        {
          "output_type": "stream",
          "name": "stdout",
          "text": [
            "tf.Tensor(\n",
            "[[-0.26209128 -1.4391097   0.9892394 ]\n",
            " [ 1.4304843   0.59072495 -0.40563685]], shape=(2, 3), dtype=float32)\n",
            "tf.Tensor(\n",
            "[[ 0.46564585 -0.9263972   0.26792663 -1.8411181 ]\n",
            " [-0.9541549   0.07121553  0.97173953 -0.5781628 ]\n",
            " [-2.4732547   0.5491741   1.5747226   0.56474376]], shape=(3, 4), dtype=float32)\n",
            "tf.Tensor(\n",
            "[[-1.1955491   0.6835783   0.08911669  1.8732474 ]\n",
            " [ 1.1056992  -1.505893    0.31853008 -3.2043066 ]], shape=(2, 4), dtype=float32)\n",
            "tf.Tensor(\n",
            "[[-1.1955491   0.6835783   0.08911669  1.8732474 ]\n",
            " [ 1.1056992  -1.505893    0.31853008 -3.2043066 ]], shape=(2, 4), dtype=float32)\n"
          ]
        }
      ]
    },
    {
      "cell_type": "markdown",
      "source": [
        "# Indexing Operation"
      ],
      "metadata": {
        "id": "xu-DmSgXagmW"
      }
    },
    {
      "cell_type": "code",
      "source": [
        "x = tf.constant([1,2,3,4,5,6])\n",
        "print(x)\n",
        "print(x[:])"
      ],
      "metadata": {
        "colab": {
          "base_uri": "https://localhost:8080/"
        },
        "id": "U5HOHSbaaTIf",
        "outputId": "fc004875-d92e-498d-fb5f-54c7a3ac8a1d"
      },
      "execution_count": 14,
      "outputs": [
        {
          "output_type": "stream",
          "name": "stdout",
          "text": [
            "tf.Tensor([1 2 3 4 5 6], shape=(6,), dtype=int32)\n",
            "tf.Tensor([1 2 3 4 5 6], shape=(6,), dtype=int32)\n"
          ]
        }
      ]
    },
    {
      "cell_type": "code",
      "source": [
        "#Excluding the first element\n",
        "print(x[1:])\n",
        "\n",
        "#Defining a range of value from the list\n",
        "print(x[1:3])\n",
        "\n",
        "#Printing the elements on alternate 2 position\n",
        "print(x[::2])\n",
        "\n",
        "#Printing the elements in the reverse order\n",
        "print(x[::-1])"
      ],
      "metadata": {
        "colab": {
          "base_uri": "https://localhost:8080/"
        },
        "id": "P1MEKf6faxkW",
        "outputId": "54afddc9-41dc-4140-8ca1-1d814711861e"
      },
      "execution_count": 15,
      "outputs": [
        {
          "output_type": "stream",
          "name": "stdout",
          "text": [
            "tf.Tensor([2 3 4 5 6], shape=(5,), dtype=int32)\n",
            "tf.Tensor([2 3], shape=(2,), dtype=int32)\n",
            "tf.Tensor([1 3 5], shape=(3,), dtype=int32)\n",
            "tf.Tensor([6 5 4 3 2 1], shape=(6,), dtype=int32)\n"
          ]
        }
      ]
    },
    {
      "cell_type": "markdown",
      "source": [
        "# Indices"
      ],
      "metadata": {
        "id": "bw0sO1fkb0Nb"
      }
    },
    {
      "cell_type": "code",
      "source": [
        "indices = tf.constant([1,3]) #Here [1,3] is the psoition of the list\n",
        "x_ind = tf.gather(x,indices)\n",
        "print(x_ind)"
      ],
      "metadata": {
        "colab": {
          "base_uri": "https://localhost:8080/"
        },
        "id": "gFQp536ubzyI",
        "outputId": "383fa4cb-4ebd-4b96-d118-ce21025f6d0c"
      },
      "execution_count": 16,
      "outputs": [
        {
          "output_type": "stream",
          "name": "stdout",
          "text": [
            "tf.Tensor([2 4], shape=(2,), dtype=int32)\n"
          ]
        }
      ]
    },
    {
      "cell_type": "code",
      "source": [
        "x = tf.constant([[1,2],\n",
        "                [3,4],\n",
        "                [4,5]])\n",
        "\n",
        "print(x[:])\n",
        "print(x[::])\n",
        "print(x[:2])\n",
        "print(x[1:3])\n",
        "#printing only the first element from the matrix\n",
        "print(x[0,:])"
      ],
      "metadata": {
        "colab": {
          "base_uri": "https://localhost:8080/"
        },
        "id": "VPdH8SvJa-1A",
        "outputId": "1c81c19d-9c20-4aad-9cda-882f73671b33"
      },
      "execution_count": 17,
      "outputs": [
        {
          "output_type": "stream",
          "name": "stdout",
          "text": [
            "tf.Tensor(\n",
            "[[1 2]\n",
            " [3 4]\n",
            " [4 5]], shape=(3, 2), dtype=int32)\n",
            "tf.Tensor(\n",
            "[[1 2]\n",
            " [3 4]\n",
            " [4 5]], shape=(3, 2), dtype=int32)\n",
            "tf.Tensor(\n",
            "[[1 2]\n",
            " [3 4]], shape=(2, 2), dtype=int32)\n",
            "tf.Tensor(\n",
            "[[3 4]\n",
            " [4 5]], shape=(2, 2), dtype=int32)\n",
            "tf.Tensor([1 2], shape=(2,), dtype=int32)\n"
          ]
        }
      ]
    },
    {
      "cell_type": "markdown",
      "source": [
        "# Reshaping"
      ],
      "metadata": {
        "id": "XD_cCObxeLPf"
      }
    },
    {
      "cell_type": "code",
      "source": [
        "x = tf.range(9)\n",
        "print(x)\n",
        "\n",
        "y = tf.reshape(x,(3,3))\n",
        "print(y)"
      ],
      "metadata": {
        "colab": {
          "base_uri": "https://localhost:8080/"
        },
        "id": "l6P5E_p-dZuu",
        "outputId": "9156d194-037c-4468-898b-3525c5a57b6f"
      },
      "execution_count": 18,
      "outputs": [
        {
          "output_type": "stream",
          "name": "stdout",
          "text": [
            "tf.Tensor([0 1 2 3 4 5 6 7 8], shape=(9,), dtype=int32)\n",
            "tf.Tensor(\n",
            "[[0 1 2]\n",
            " [3 4 5]\n",
            " [6 7 8]], shape=(3, 3), dtype=int32)\n"
          ]
        }
      ]
    },
    {
      "cell_type": "markdown",
      "source": [
        "Transposing Matrix"
      ],
      "metadata": {
        "id": "HVQ2H1w9e3MZ"
      }
    },
    {
      "cell_type": "code",
      "source": [
        "# x = tf.transpose(x,perm=[1,0]) #perm stands for permutation\n",
        "# print(x)"
      ],
      "metadata": {
        "id": "g4I-BXR6eRD-"
      },
      "execution_count": 19,
      "outputs": []
    },
    {
      "cell_type": "code",
      "source": [],
      "metadata": {
        "id": "QKOOjmjBe-61"
      },
      "execution_count": 19,
      "outputs": []
    }
  ],
  "metadata": {
    "colab": {
      "provenance": [],
      "authorship_tag": "ABX9TyN8XwDacqHdcHoOe355ZMAL",
      "include_colab_link": true
    },
    "kernelspec": {
      "display_name": "Python 3",
      "name": "python3"
    },
    "language_info": {
      "name": "python"
    }
  },
  "nbformat": 4,
  "nbformat_minor": 0
}